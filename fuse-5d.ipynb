{
 "cells": [
  {
   "cell_type": "code",
   "execution_count": 1,
   "metadata": {},
   "outputs": [],
   "source": [
    "import numpy as np\n",
    "import os, time, json\n",
    "\n",
    "import os\n",
    "\n",
    "from FLKutils2 import learn_t, get_logflk_config, plot_data, return_best_chi2dof, plot_ref_data, candidate_sigma\n",
    "from FLKutils_min import BuildSample_DY, normalize\n",
    "from scipy.special import logsumexp\n",
    "from scipy.stats import norm\n",
    "\n",
    "\n",
    "from matplotlib import pyplot as plt"
   ]
  },
  {
   "cell_type": "code",
   "execution_count": 9,
   "metadata": {},
   "outputs": [
    {
     "name": "stdout",
     "output_type": "stream",
     "text": [
      "DiLepton_SM\n",
      "(20000, 6)\n"
     ]
    }
   ],
   "source": [
    "ref = BuildSample_DY(N_Events=20000, INPUT_PATH='/data/marcol/HEPDATA/DILEPTON/DiLepton_SM/', rng=np.random.default_rng(seed=0))"
   ]
  },
  {
   "cell_type": "code",
   "execution_count": 10,
   "metadata": {},
   "outputs": [],
   "source": [
    "cut_mll = 60\n",
    "cut_pt = 20\n",
    "cut_eta = 2.4\n",
    "\n",
    "mask_idx = np.where((ref[:, 4] <= cut_pt) | (ref[:, 5] <= cut_pt) | (np.abs(ref[:, 1]) >= cut_eta) | (np.abs(ref[:, 2]) >= cut_eta) | (ref[:, 3] <= cut_mll))[0]\n",
    "dataset = np.delete(ref, mask_idx, axis=0)"
   ]
  },
  {
   "cell_type": "code",
   "execution_count": 11,
   "metadata": {},
   "outputs": [],
   "source": [
    "# mean and std of reference data compute from the entire dataset - used to normalize\n",
    "mean_ref = [3.05212537e+00, 4.59876795e-04, 3.66978211e-04, 4.67488118e+01, 3.60544255e+01]\n",
    "std_ref = [0.52342366, 1.24487457, 1.25051629, 15.86122412, 8.95046637]"
   ]
  },
  {
   "cell_type": "code",
   "execution_count": 12,
   "metadata": {},
   "outputs": [
    {
     "name": "stdout",
     "output_type": "stream",
     "text": [
      "0.327\n",
      "0.593\n",
      "1.234\n",
      "1.845\n",
      "2.536\n",
      "3.554\n",
      "4.211\n"
     ]
    }
   ],
   "source": [
    "for perc in [1, 5, 25, 50, 75, 95, 99]:\n",
    "    print(candidate_sigma(normalize(ref[:,[0,1,2,4,5]],mean_ref,std_ref), perc=perc))"
   ]
  },
  {
   "cell_type": "code",
   "execution_count": 11,
   "metadata": {},
   "outputs": [
    {
     "data": {
      "image/png": "[encoded data removed]",
      "text/plain": [
       "<Figure size 640x480 with 1 Axes>"
      ]
     },
     "metadata": {},
     "output_type": "display_data"
    }
   ],
   "source": [
    "plt.hist(ref[:,4],bins=50)\n",
    "plt.show()"
   ]
  },
  {
   "cell_type": "code",
   "execution_count": 3,
   "metadata": {},
   "outputs": [],
   "source": [
    "cut_mll = 100\n",
    "cut_pt = 20\n",
    "cut_eta = 2.4\n",
    "\n",
    "#['delta_phi', 'eta1', 'eta2', 'mll', 'pt1', 'pt2']\n",
    "\n",
    "mask_idx = np.where((ref[:, 4] <= cut_pt) | (ref[:, 5] <= cut_pt) | (np.abs(ref[:, 1]) >= cut_eta) | (np.abs(ref[:, 2]) >= cut_eta) | (ref[:, 3] <= cut_mll))[0]\n",
    "masked_ref = np.delete(ref, mask_idx, axis=0)"
   ]
  },
  {
   "cell_type": "code",
   "execution_count": 5,
   "metadata": {},
   "outputs": [
    {
     "data": {
      "image/png": "[encoded data removed]",
      "text/plain": [
       "<Figure size 640x480 with 1 Axes>"
      ]
     },
     "metadata": {},
     "output_type": "display_data"
    }
   ],
   "source": [
    "plt.hist(masked_ref[:,0])\n",
    "plt.show()"
   ]
  },
  {
   "cell_type": "markdown",
   "metadata": {},
   "source": [
    "## test "
   ]
  },
  {
   "cell_type": "code",
   "execution_count": 2,
   "metadata": {},
   "outputs": [],
   "source": [
    "output_path = './output/'\n"
   ]
  },
  {
   "cell_type": "code",
   "execution_count": 3,
   "metadata": {},
   "outputs": [
    {
     "ename": "NameError",
     "evalue": "name 'candidate_sigma' is not defined",
     "output_type": "error",
     "traceback": [
      "\u001b[0;31m---------------------------------------------------------------------------\u001b[0m",
      "\u001b[0;31mNameError\u001b[0m                                 Traceback (most recent call last)",
      "Cell \u001b[0;32mIn[3], line 7\u001b[0m\n\u001b[1;32m      1\u001b[0m test_ref \u001b[38;5;241m=\u001b[39m np\u001b[38;5;241m.\u001b[39mrandom\u001b[38;5;241m.\u001b[39mdefault_rng(seed\u001b[38;5;241m=\u001b[39m\u001b[38;5;241m0\u001b[39m)\u001b[38;5;241m.\u001b[39mexponential(scale\u001b[38;5;241m=\u001b[39m\u001b[38;5;241m1\u001b[39m, size\u001b[38;5;241m=\u001b[39m(\u001b[38;5;241m20000\u001b[39m, \u001b[38;5;241m1\u001b[39m))\n\u001b[1;32m      2\u001b[0m \u001b[38;5;28mprint\u001b[39m(\n\u001b[1;32m      3\u001b[0m     \u001b[38;5;66;03m#candidate_sigma(test_ref, perc=10),\u001b[39;00m\n\u001b[1;32m      4\u001b[0m     \u001b[38;5;66;03m#candidate_sigma(test_ref, perc=25),\u001b[39;00m\n\u001b[1;32m      5\u001b[0m     \u001b[38;5;66;03m#candidate_sigma(test_ref, perc=50),\u001b[39;00m\n\u001b[1;32m      6\u001b[0m     \u001b[38;5;66;03m#candidate_sigma(test_ref, perc=90),\u001b[39;00m\n\u001b[0;32m----> 7\u001b[0m     \u001b[43mcandidate_sigma\u001b[49m(test_ref, perc\u001b[38;5;241m=\u001b[39m\u001b[38;5;241m75\u001b[39m),\n\u001b[1;32m      8\u001b[0m )\n",
      "\u001b[0;31mNameError\u001b[0m: name 'candidate_sigma' is not defined"
     ]
    }
   ],
   "source": [
    "test_ref = np.random.default_rng(seed=0).exponential(scale=1, size=(20000, 1))\n",
    "print(\n",
    "    #candidate_sigma(test_ref, perc=10),\n",
    "    #candidate_sigma(test_ref, perc=25),\n",
    "    #candidate_sigma(test_ref, perc=50),\n",
    "    #candidate_sigma(test_ref, perc=90),\n",
    "    candidate_sigma(test_ref, perc=75),\n",
    ")"
   ]
  },
  {
   "cell_type": "code",
   "execution_count": 4,
   "metadata": {},
   "outputs": [],
   "source": [
    "# multiple testing definition\n",
    "flk_sigmas = [0.1, 0.3, 0.7, 1.4, 2.4, 3.0] #10,25,50,75,90,95 percentiles\n",
    "M          = [5000,5000,5000,5000,5000,5000]\n",
    "lam        = [1e-10,1e-10,1e-10,1e-10,1e-10,1e-10]\n",
    "Ntoys      = 300\n",
    "\n",
    "# initialize \n",
    "tstat_dict = {}\n",
    "seeds_dict = {}\n",
    "seeds_flk_dict = {}\n",
    "\n",
    "# problem definition\n",
    "N_ref      = 20000\n",
    "N_Bkg      = 2000\n",
    "N_Sig      = 0\n",
    "weight    = N_Bkg*1./N_ref\n",
    "Sig_loc    = 4\n",
    "Sig_std    = 0.64"
   ]
  },
  {
   "cell_type": "code",
   "execution_count": 5,
   "metadata": {},
   "outputs": [],
   "source": [
    "if N_Sig: filename = f'Ntoys{Ntoys}_NR{N_ref}_NB{N_Bkg}_NS{N_Sig}_loc{Sig_loc}_std{Sig_std}'\n",
    "else: filename = f'Ntoys{Ntoys}_NR{N_ref}_NB{N_Bkg}_null'\n",
    "os.makedirs(output_path+filename, exist_ok = True)"
   ]
  },
  {
   "cell_type": "code",
   "execution_count": 6,
   "metadata": {},
   "outputs": [],
   "source": [
    "seeds = np.arange(Ntoys)*int(time.time()/1000000)\n",
    "np.savetxt(output_path+filename+\"/seeds.txt\",seeds.tolist(),delimiter=\",\")"
   ]
  },
  {
   "cell_type": "code",
   "execution_count": null,
   "metadata": {},
   "outputs": [],
   "source": [
    "t_dict = {}\n",
    "for idx, flk_sigma in enumerate(flk_sigmas):\n",
    "    t_list = [] \n",
    "    flk_config = get_logflk_config(M[idx],flk_sigma,[lam[idx]],weight=weight,iter=[1000000],seed=None,cpu=False) # seed for center is re-set inside run_toy\n",
    "\n",
    "    for i in range(Ntoys):\n",
    "        seed = seeds[i]\n",
    "        rng = np.random.default_rng(seed=seed)\n",
    "        # data\n",
    "        N_Bkg_Pois  = rng.poisson(lam=N_Bkg, size=1)[0]\n",
    "        #N_ref_Pois  = rng.poisson(lam=N_ref, size=1)[0]\n",
    "        #N_observed_ref = N_ref_Pois\n",
    "        if N_Sig: N_Sig_Pois = rng.poisson(lam=N_Sig, size=1)[0]\n",
    "        else: N_Sig_Pois = N_Sig\n",
    "        Ntot = N_Bkg_Pois+N_Sig+N_ref\n",
    "\n",
    "        dataset = np.zeros(shape=(Ntot,1))\n",
    "\n",
    "        dataset[:N_Bkg_Pois] = rng.exponential(scale=1, size=(N_Bkg_Pois, 1))\n",
    "        if N_Sig:\n",
    "            dataset[N_Bkg_Pois:N_Bkg_Pois+N_Sig_Pois]  = rng.normal(loc=Sig_loc, scale=Sig_std, size=(N_Sig_Pois,1))\n",
    "        dataset[N_Bkg_Pois+N_Sig_Pois:]  = rng.exponential(scale=1, size=(N_ref, 1))\n",
    "\n",
    "        # target\n",
    "        target   = np.zeros_like(dataset)\n",
    "        target[:N_Bkg_Pois+N_Sig_Pois] = np.ones(shape=(N_Bkg_Pois+N_Sig_Pois,1))\n",
    "        \n",
    "        weights = np.ones_like(dataset)\n",
    "        weights[N_Bkg_Pois+N_Sig_Pois:] = np.full(shape=(N_ref,1),fill_value=weight)\n",
    "        #weightsData = np.ones_like(featureData)\n",
    "        #weightsRef  = np.ones_like(featureRef)*weight\n",
    "        #target      = np.concatenate((targetData, targetRef), axis=0)\n",
    "        #weights     = np.concatenate((weightsData, weightsRef), axis=0)\n",
    "        #target      = np.concatenate((target, weights), axis=1)\n",
    "\n",
    "        # ARRIVATO QUA -- da controllare\n",
    "\n",
    "        # run\n",
    "        #if not i%20: plot_reco=True\n",
    "        #else: plot_reco=False\n",
    "        plot_reco=False\n",
    "        st_time = time.time()\n",
    "        t = learn_t(dataset, target,  weight=weight, seed=seed, flk_config=flk_config)\n",
    "        dt = round(time.time()-st_time,2)\n",
    "        print(f\"(M,lambda,sigma)={M[idx],lam[idx],flk_sigma}: t={t}, time={dt}.\")\n",
    "        t_list.append(t)\n",
    "    t_dict[(M[idx],lam[idx],flk_sigma)]=t_list\n",
    "    #seed[NP][str(flk_sigma)]=np.array(seeds_flk)"
   ]
  },
  {
   "cell_type": "code",
   "execution_count": 16,
   "metadata": {},
   "outputs": [
    {
     "data": {
      "text/plain": [
       "{(1000, 1e-06, 0.1): [71.5074264085593,\n",
       "  74.13269086456131,\n",
       "  71.86519257415219,\n",
       "  68.75683745606086,\n",
       "  87.30509768881637],\n",
       " (1000, 1e-06, 0.3): [27.412386475117206,\n",
       "  31.765695231496302,\n",
       "  16.71336663096048,\n",
       "  33.34778557506008,\n",
       "  45.561718751015945],\n",
       " (1000, 1e-06, 0.7): [12.15188571569864,\n",
       "  20.112963067016004,\n",
       "  8.837418122606,\n",
       "  13.0166604107015,\n",
       "  21.051303591499828]}"
      ]
     },
     "execution_count": 16,
     "metadata": {},
     "output_type": "execute_result"
    }
   ],
   "source": [
    "t_dict"
   ]
  },
  {
   "cell_type": "code",
   "execution_count": 9,
   "metadata": {},
   "outputs": [
    {
     "data": {
      "text/plain": [
       "array([   0, 1710, 3420, 5130, 6840])"
      ]
     },
     "execution_count": 9,
     "metadata": {},
     "output_type": "execute_result"
    }
   ],
   "source": [
    "seeds"
   ]
  },
  {
   "cell_type": "markdown",
   "metadata": {},
   "source": [
    "## mmd-fuse metric"
   ]
  },
  {
   "cell_type": "code",
   "execution_count": 2,
   "metadata": {},
   "outputs": [],
   "source": [
    "ref = np.load(\"./output/Ntoys1000_NR20000_NB2000_null/t_array.npy\")\n",
    "data = np.load(\"./output/Ntoys300_NR20000_NB2000_NS10_loc6.4_std0.16//t_array.npy\")"
   ]
  },
  {
   "cell_type": "code",
   "execution_count": 43,
   "metadata": {},
   "outputs": [],
   "source": [
    "def emp_p_value(ref,data):\n",
    "    #for idx,el in enumerate(t):\n",
    "    #    p[idx] = np.mean(ref>=t)\n",
    "    return np.array([np.mean(ref>=t) for t in data])\n",
    "\n",
    "def p_to_z(pvals):\n",
    "    return norm.ppf(1 - pvals)\n",
    "\n",
    "def Zscore(ref,data):\n",
    "    return p_to_z(emp_p_value(ref,data))\n"
   ]
  },
  {
   "cell_type": "code",
   "execution_count": 44,
   "metadata": {},
   "outputs": [
    {
     "data": {
      "text/plain": [
       "2.064"
      ]
     },
     "execution_count": 44,
     "metadata": {},
     "output_type": "execute_result"
    }
   ],
   "source": [
    "round(np.median(Zscore(ref[:,4],data[:,4])),3)"
   ]
  },
  {
   "cell_type": "code",
   "execution_count": 45,
   "metadata": {},
   "outputs": [],
   "source": [
    "def fusion(x,T):\n",
    "    return T * logsumexp(1/T*x, axis=1, b=1/x.shape[0])"
   ]
  },
  {
   "cell_type": "code",
   "execution_count": 46,
   "metadata": {},
   "outputs": [
    {
     "data": {
      "text/plain": [
       "(1000,)"
      ]
     },
     "execution_count": 46,
     "metadata": {},
     "output_type": "execute_result"
    }
   ],
   "source": [
    "fused_t = fusion(ref,1)\n",
    "fused_t.shape"
   ]
  },
  {
   "cell_type": "code",
   "execution_count": 47,
   "metadata": {},
   "outputs": [],
   "source": [
    "def fused_p(ref,data,T):\n",
    "    fused_ref = fusion(ref,T)\n",
    "    fused_data = fusion(data,T)\n",
    "\n",
    "    return emp_p_value(fused_ref,fused_data)"
   ]
  },
  {
   "cell_type": "code",
   "execution_count": 8,
   "metadata": {},
   "outputs": [
    {
     "data": {
      "text/plain": [
       "1.4796185767461603"
      ]
     },
     "execution_count": 8,
     "metadata": {},
     "output_type": "execute_result"
    }
   ],
   "source": [
    "T=1\n",
    "np.median(Zscore(fusion(ref,T),fusion(data,T)))"
   ]
  },
  {
   "cell_type": "code",
   "execution_count": 48,
   "metadata": {},
   "outputs": [
    {
     "data": {
      "text/plain": [
       "1.4796185767461603"
      ]
     },
     "execution_count": 48,
     "metadata": {},
     "output_type": "execute_result"
    }
   ],
   "source": [
    "T = 1\n",
    "p_fused = fused_p(ref,data,T)\n",
    "np.median(p_to_z(p_fused))\n"
   ]
  },
  {
   "cell_type": "code",
   "execution_count": 49,
   "metadata": {},
   "outputs": [],
   "source": [
    "def bootstrap_pn(pn,seed=None):\n",
    "    rnd = np.random.default_rng(seed=seed)\n",
    "    return rnd.choice(pn,size=len(pn))\n",
    "\n",
    "def bootstrap_pval(pn,t,seed=None):\n",
    "    return np.mean(bootstrap_pn(pn,seed=seed)<=t)"
   ]
  },
  {
   "cell_type": "code",
   "execution_count": 50,
   "metadata": {},
   "outputs": [],
   "source": [
    "def min_p(ref,data):\n",
    "    # ref: nxd numpy array\n",
    "    # data: mxd numpy array\n",
    "    p_ref = np.zeros_like(ref)\n",
    "    p_data = np.zeros_like(data)\n",
    "\n",
    "    for idx, col in enumerate(np.transpose(ref)):\n",
    "        p_ref[:,idx] = np.transpose([bootstrap_pval(np.delete(col,idx),el) for el in col])\n",
    "\n",
    "    for idx, col in enumerate(np.transpose(data)):\n",
    "        p=emp_p_value(np.transpose(ref)[idx],col)\n",
    "        p_data[:,idx] = np.transpose(p)\n",
    "\n",
    "    return np.min(p_ref,axis=1), np.min(p_data,axis=1)"
   ]
  },
  {
   "cell_type": "code",
   "execution_count": 51,
   "metadata": {},
   "outputs": [],
   "source": [
    "pmin_ref, pmin_data = min_p(ref,data)"
   ]
  },
  {
   "cell_type": "code",
   "execution_count": 52,
   "metadata": {},
   "outputs": [
    {
     "data": {
      "text/plain": [
       "1"
      ]
     },
     "execution_count": 52,
     "metadata": {},
     "output_type": "execute_result"
    }
   ],
   "source": [
    "len(pmin_ref)-np.count_nonzero(pmin_ref)"
   ]
  },
  {
   "cell_type": "code",
   "execution_count": 53,
   "metadata": {},
   "outputs": [],
   "source": [
    "pvals_min_p_ref = []\n",
    "for idx, el in enumerate(np.transpose(pmin_ref)):\n",
    "        pvals_min_p_ref.append(bootstrap_pval(np.delete(pmin_ref,idx),el))\n",
    "#pvals_ref_min = [bootstrap_pval(np.delete(col,idx),el) for el in col]"
   ]
  },
  {
   "cell_type": "code",
   "execution_count": 54,
   "metadata": {},
   "outputs": [],
   "source": [
    "pvals_min_p_data = emp_p_value(pmin_ref,pmin_data)"
   ]
  },
  {
   "cell_type": "code",
   "execution_count": 55,
   "metadata": {},
   "outputs": [
    {
     "data": {
      "image/png": "[encoded data removed]",
      "text/plain": [
       "<Figure size 640x480 with 1 Axes>"
      ]
     },
     "metadata": {},
     "output_type": "display_data"
    }
   ],
   "source": [
    "plt.hist(pvals_min_p_ref,bins=10,density=True, label='null')\n",
    "plt.hist(pvals_min_p_data,bins=10,density=True, alpha=0.5, label='alt')\n",
    "plt.legend(loc=0)\n",
    "plt.show()"
   ]
  },
  {
   "cell_type": "code",
   "execution_count": 63,
   "metadata": {},
   "outputs": [
    {
     "data": {
      "text/plain": [
       "1.9773684281819461"
      ]
     },
     "execution_count": 63,
     "metadata": {},
     "output_type": "execute_result"
    }
   ],
   "source": [
    "np.abs(np.median(Zscore(pmin_ref,pmin_data)))"
   ]
  },
  {
   "cell_type": "code",
   "execution_count": 153,
   "metadata": {},
   "outputs": [
    {
     "data": {
      "image/png": "[encoded data removed]",
      "text/plain": [
       "<Figure size 800x560 with 1 Axes>"
      ]
     },
     "metadata": {},
     "output_type": "display_data"
    }
   ],
   "source": [
    "plot_ref_data(pmin_ref,pmin_data,bins=20)"
   ]
  },
  {
   "cell_type": "code",
   "execution_count": 71,
   "metadata": {},
   "outputs": [],
   "source": [
    "def fused_p(ref,data,T=1):\n",
    "    # ref: nxd numpy array\n",
    "    # data: mxd numpy array\n",
    "    p_ref = np.zeros_like(ref)\n",
    "    p_data = np.zeros_like(data)\n",
    "\n",
    "    for idx, col in enumerate(np.transpose(ref)):\n",
    "        p_ref[:,idx] = np.transpose([bootstrap_pval(np.delete(col,idx),el) for el in col])\n",
    "\n",
    "    for idx, col in enumerate(np.transpose(data)):\n",
    "        p=emp_p_value(np.transpose(ref)[idx],col)\n",
    "        p_data[:,idx] = np.transpose(p)\n",
    "\n",
    "    #return np.min(p_ref,axis=1), np.min(p_data,axis=1)\n",
    "    return -T * logsumexp(-1/T*p_ref, axis=1, b=1/p_ref.shape[0]), -T * logsumexp(-1/T*p_data, axis=1, b=1/p_data.shape[0])"
   ]
  },
  {
   "cell_type": "code",
   "execution_count": 84,
   "metadata": {},
   "outputs": [],
   "source": [
    "fused_p_ref, fused_p_data = fused_p(ref,data,0.00001)"
   ]
  },
  {
   "cell_type": "code",
   "execution_count": 85,
   "metadata": {},
   "outputs": [
    {
     "data": {
      "image/png": "[encoded data removed]",
      "text/plain": [
       "<Figure size 640x480 with 1 Axes>"
      ]
     },
     "metadata": {},
     "output_type": "display_data"
    }
   ],
   "source": [
    "plt.hist(fused_p_ref,bins=10,density=True, label='null')\n",
    "plt.hist(fused_p_data,bins=10,density=True, alpha=0.5, label='alt')\n",
    "plt.legend(loc=0)\n",
    "plt.show()"
   ]
  },
  {
   "cell_type": "code",
   "execution_count": 68,
   "metadata": {},
   "outputs": [
    {
     "data": {
      "text/plain": [
       "inf"
      ]
     },
     "execution_count": 68,
     "metadata": {},
     "output_type": "execute_result"
    }
   ],
   "source": [
    "np.abs(np.median(Zscore(fused_p_ref,fused_p_data)))"
   ]
  },
  {
   "cell_type": "code",
   "execution_count": 46,
   "metadata": {},
   "outputs": [
    {
     "data": {
      "image/png": "[encoded data removed]",
      "text/plain": [
       "<Figure size 800x560 with 1 Axes>"
      ]
     },
     "metadata": {},
     "output_type": "display_data"
    }
   ],
   "source": [
    "seed=1\n",
    "pn = np.random.default_rng(seed=seed).choice(ref[:,0],size=len(ref[:,0]))\n",
    "plot_ref_data(ref[:,0],pn)"
   ]
  },
  {
   "cell_type": "code",
   "execution_count": null,
   "metadata": {},
   "outputs": [],
   "source": []
  },
  {
   "cell_type": "code",
   "execution_count": null,
   "metadata": {},
   "outputs": [],
   "source": []
  },
  {
   "cell_type": "code",
   "execution_count": 20,
   "metadata": {},
   "outputs": [],
   "source": [
    "def min_p(x):\n",
    "    p_array = np.zeros_like(np.transpose(x))\n",
    "    for idx1, col in enumerate(np.transpose(x)):\n",
    "        p = []\n",
    "        for idx2, el in enumerate(col):\n",
    "            p.append(bootstrap_p(np.delete(col,idx2),el))\n",
    "        p_array[idx1] = np.array(p)\n",
    "        print(p)\n",
    "    \n",
    "    return p_array"
   ]
  },
  {
   "cell_type": "code",
   "execution_count": null,
   "metadata": {},
   "outputs": [],
   "source": []
  },
  {
   "cell_type": "code",
   "execution_count": 41,
   "metadata": {},
   "outputs": [
    {
     "ename": "IndexError",
     "evalue": "index 4 is out of bounds for axis 0 with size 3",
     "output_type": "error",
     "traceback": [
      "\u001b[0;31m---------------------------------------------------------------------------\u001b[0m",
      "\u001b[0;31mIndexError\u001b[0m                                Traceback (most recent call last)",
      "Cell \u001b[0;32mIn[41], line 5\u001b[0m\n\u001b[1;32m      3\u001b[0m col \u001b[38;5;241m=\u001b[39m ttrans[\u001b[38;5;241m0\u001b[39m]\n\u001b[1;32m      4\u001b[0m rng \u001b[38;5;241m=\u001b[39m np\u001b[38;5;241m.\u001b[39mrandom\u001b[38;5;241m.\u001b[39mdefault_rng()\n\u001b[0;32m----> 5\u001b[0m x_del \u001b[38;5;241m=\u001b[39m \u001b[43mnp\u001b[49m\u001b[38;5;241;43m.\u001b[39;49m\u001b[43mdelete\u001b[49m\u001b[43m(\u001b[49m\u001b[43mtest_array\u001b[49m\u001b[43m,\u001b[49m\u001b[43mcol\u001b[49m\u001b[43m,\u001b[49m\u001b[43maxis\u001b[49m\u001b[38;5;241;43m=\u001b[39;49m\u001b[38;5;241;43m1\u001b[39;49m\u001b[43m)\u001b[49m\n",
      "File \u001b[0;32m/data/marcol/miniconda3/envs/falkon_torch113_cu116/lib/python3.9/site-packages/numpy/lib/function_base.py:5353\u001b[0m, in \u001b[0;36mdelete\u001b[0;34m(arr, obj, axis)\u001b[0m\n\u001b[1;32m   5351\u001b[0m \u001b[38;5;28;01melse\u001b[39;00m:\n\u001b[1;32m   5352\u001b[0m     keep \u001b[38;5;241m=\u001b[39m ones(N, dtype\u001b[38;5;241m=\u001b[39m\u001b[38;5;28mbool\u001b[39m)\n\u001b[0;32m-> 5353\u001b[0m     keep[obj,] \u001b[38;5;241m=\u001b[39m \u001b[38;5;28;01mFalse\u001b[39;00m\n\u001b[1;32m   5355\u001b[0m slobj[axis] \u001b[38;5;241m=\u001b[39m keep\n\u001b[1;32m   5356\u001b[0m new \u001b[38;5;241m=\u001b[39m arr[\u001b[38;5;28mtuple\u001b[39m(slobj)]\n",
      "\u001b[0;31mIndexError\u001b[0m: index 4 is out of bounds for axis 0 with size 3"
     ]
    }
   ],
   "source": [
    "idx = 0\n",
    "ttrans = np.transpose(test_array)\n",
    "col = ttrans[0]\n",
    "rng = np.random.default_rng()\n",
    "x_del = np.delete(test_array,col,axis=1)"
   ]
  },
  {
   "cell_type": "code",
   "execution_count": 34,
   "metadata": {},
   "outputs": [
    {
     "data": {
      "text/plain": [
       "array([ 1,  4,  7, 10])"
      ]
     },
     "execution_count": 34,
     "metadata": {},
     "output_type": "execute_result"
    }
   ],
   "source": [
    "col.transpose()"
   ]
  },
  {
   "cell_type": "code",
   "execution_count": 51,
   "metadata": {},
   "outputs": [
    {
     "name": "stdout",
     "output_type": "stream",
     "text": [
      "[10 10  7]\n",
      "1.0\n",
      "[ 4 10 10]\n",
      "1.0\n",
      "[ 4 10 10]\n",
      "0.6666666666666666\n",
      "[10 10  4]\n",
      "0.3333333333333333\n"
     ]
    }
   ],
   "source": [
    "x = [ 1,  4,  7, 10]\n",
    "for el in x:\n",
    "    rng = np.random.default_rng()\n",
    "    bootstrap = rng.choice(np.delete(x,idx),size=len(x)-1)\n",
    "    print(bootstrap)\n",
    "    print(np.mean(np.delete(col,idx)>=el))"
   ]
  },
  {
   "cell_type": "code",
   "execution_count": 49,
   "metadata": {},
   "outputs": [
    {
     "data": {
      "text/plain": [
       "array([ 7,  4, 10])"
      ]
     },
     "execution_count": 49,
     "metadata": {},
     "output_type": "execute_result"
    }
   ],
   "source": [
    "bootstrap"
   ]
  },
  {
   "cell_type": "code",
   "execution_count": 2,
   "metadata": {},
   "outputs": [],
   "source": [
    "with open(\"./output/Ntoys100_NR200000_NB2000_NS90_nonres/t.txt\", \"r\") as fp:\n",
    "    # Load the dictionary from the file\n",
    "    t_dict = json.load(fp)"
   ]
  },
  {
   "cell_type": "code",
   "execution_count": 3,
   "metadata": {},
   "outputs": [],
   "source": [
    "t_array = []\n",
    "for key in t_dict.keys():\n",
    "    t_array.append(t_dict[key])\n",
    "t_array = np.array(t_array).transpose()"
   ]
  },
  {
   "cell_type": "code",
   "execution_count": 4,
   "metadata": {},
   "outputs": [],
   "source": [
    "np.save(\"./output/Ntoys100_NR200000_NB2000_NS90_nonres/t_array.npy\",t_array)"
   ]
  },
  {
   "cell_type": "code",
   "execution_count": 61,
   "metadata": {},
   "outputs": [],
   "source": [
    "fused_ref = fusion(t_array,1)"
   ]
  },
  {
   "cell_type": "code",
   "execution_count": 62,
   "metadata": {},
   "outputs": [
    {
     "data": {
      "text/plain": [
       "(1000,)"
      ]
     },
     "execution_count": 62,
     "metadata": {},
     "output_type": "execute_result"
    }
   ],
   "source": [
    "fused_ref.shape"
   ]
  },
  {
   "cell_type": "code",
   "execution_count": null,
   "metadata": {},
   "outputs": [],
   "source": []
  },
  {
   "cell_type": "code",
   "execution_count": 17,
   "metadata": {},
   "outputs": [
    {
     "data": {
      "text/plain": [
       "(112.5048877202664, 0.050396862457460834)"
      ]
     },
     "execution_count": 17,
     "metadata": {},
     "output_type": "execute_result"
    }
   ],
   "source": [
    "return_best_chi2dof(t_array[:,0])"
   ]
  },
  {
   "cell_type": "code",
   "execution_count": 10,
   "metadata": {},
   "outputs": [
    {
     "data": {
      "image/png": "[encoded data removed]",
      "text/plain": [
       "<Figure size 800x560 with 1 Axes>"
      ]
     },
     "metadata": {},
     "output_type": "display_data"
    }
   ],
   "source": [
    "idx=3\n",
    "plot_data(t_array[:,idx],label='0.1',dof=return_best_chi2dof(t_array[:,idx])[0])"
   ]
  },
  {
   "cell_type": "code",
   "execution_count": 8,
   "metadata": {},
   "outputs": [],
   "source": [
    "from matplotlib import pyplot as plt"
   ]
  },
  {
   "cell_type": "code",
   "execution_count": 15,
   "metadata": {},
   "outputs": [
    {
     "data": {
      "text/plain": [
       "(1000,)"
      ]
     },
     "execution_count": 15,
     "metadata": {},
     "output_type": "execute_result"
    }
   ],
   "source": [
    "t_array[:,0].shape"
   ]
  },
  {
   "cell_type": "code",
   "execution_count": 3,
   "metadata": {},
   "outputs": [],
   "source": [
    "with open(\"./output/Ntoys300_NR20000_NB2000_NS10_loc6.4_std0.16/t.txt\", \"r\") as fp:\n",
    "    # Load the dictionary from the file\n",
    "    t_dict = json.load(fp)"
   ]
  },
  {
   "cell_type": "code",
   "execution_count": 4,
   "metadata": {},
   "outputs": [],
   "source": [
    "t_array = []\n",
    "for key in t_dict.keys():\n",
    "    t_array.append(t_dict[key])\n",
    "t_array = np.array(t_array).transpose()"
   ]
  },
  {
   "cell_type": "code",
   "execution_count": 5,
   "metadata": {},
   "outputs": [],
   "source": [
    "np.save(\"./output/Ntoys300_NR20000_NB2000_NS10_loc6.4_std0.16/t_array.npy\",t_array)"
   ]
  },
  {
   "cell_type": "markdown",
   "metadata": {},
   "source": [
    "## nonres test "
   ]
  },
  {
   "cell_type": "code",
   "execution_count": 4,
   "metadata": {},
   "outputs": [],
   "source": [
    "from FLKutils_min import nonres_sig\n",
    "import matplotlib.pyplot as plt"
   ]
  },
  {
   "cell_type": "code",
   "execution_count": 7,
   "metadata": {},
   "outputs": [],
   "source": [
    "nonres_sample = nonres_sig(1000,0)"
   ]
  },
  {
   "cell_type": "code",
   "execution_count": 11,
   "metadata": {},
   "outputs": [
    {
     "data": {
      "image/png": "[encoded data removed]",
      "text/plain": [
       "<Figure size 640x480 with 1 Axes>"
      ]
     },
     "metadata": {},
     "output_type": "display_data"
    }
   ],
   "source": [
    "plt.hist(nonres_sample)\n",
    "plt.show()"
   ]
  },
  {
   "cell_type": "code",
   "execution_count": 31,
   "metadata": {},
   "outputs": [],
   "source": [
    "import numpy as np\n",
    "import os\n",
    "import h5py\n",
    "#['delta_phi', 'eta1', 'eta2', 'mll', 'pt1', 'pt2']\n",
    "def BuildSample_DY_2(INPUT_PATH, rng, features=[], N_Events=-1, nfiles=20, shuffle=True):\n",
    "    #random integer to select Zprime file between n files                                                                                                            \n",
    "    u = np.arange(nfiles)#np.random.randint(100, size=100)                                                                                                           \n",
    "    if shuffle: rng.shuffle(u)\n",
    "    toy_label = INPUT_PATH.split(\"/\")[-2]\n",
    "    print(toy_label)\n",
    "    HLF = np.array([])\n",
    "    for u_i in u:\n",
    "        if not os.path.exists(INPUT_PATH+toy_label+str(u_i+1)+\".h5\"): continue\n",
    "        f    = h5py.File(INPUT_PATH+toy_label+str(u_i+1)+\".h5\", 'r')\n",
    "        keys = list(f.keys())\n",
    "        if u_i==u[0]:\n",
    "            print('available features: ', keys)\n",
    "        if len(keys)==0: continue #check whether the file is empty                                                                                                   \n",
    "        cols = np.array([])\n",
    "        if len(features): keys = features\n",
    "        for i in range(len(keys)):\n",
    "            feature = np.array(f.get(keys[i]))\n",
    "            feature = np.expand_dims(feature, axis=1)\n",
    "            if i==0: cols = feature\n",
    "            else: cols = np.concatenate((cols, feature), axis=1)\n",
    "        if shuffle: rng.shuffle(cols) #don't want to select always the same event first                                                                       \\\n",
    "                                                                                                                                                                     \n",
    "        if HLF.shape[0]==0:\n",
    "            HLF=cols\n",
    "            i+=1\n",
    "        else: HLF=np.concatenate((HLF, cols), axis=0)\n",
    "        f.close()\n",
    "        if N_Events>0 and HLF.shape[0]>=N_Events:\n",
    "            HLF=HLF[:N_Events, : ]\n",
    "            break\n",
    "    print(HLF.shape)\n",
    "    #return HLF[:, [4, 5, 1, 2, 0, 3]]                                                                                                                               \n",
    "    return HLF"
   ]
  },
  {
   "cell_type": "code",
   "execution_count": 4,
   "metadata": {},
   "outputs": [
    {
     "name": "stdout",
     "output_type": "stream",
     "text": [
      "DiLepton_SM\n",
      "(20000, 6)\n",
      "1\n",
      "0.313\n",
      "5\n",
      "0.567\n",
      "10\n",
      "0.761\n",
      "25\n",
      "1.182\n",
      "50\n",
      "1.773\n",
      "75\n",
      "2.47\n",
      "90\n",
      "3.152\n",
      "95\n",
      "3.546\n",
      "99\n",
      "4.205\n"
     ]
    }
   ],
   "source": [
    "ref = BuildSample_DY(N_Events=20000, INPUT_PATH='/data/marcol/HEPDATA/DILEPTON/DiLepton_SM/', rng=np.random.default_rng(seed=1234))\n",
    "cut_mll = 60\n",
    "cut_pt = 20\n",
    "cut_eta = 2.4\n",
    "\n",
    "mask_idx = np.where((ref[:, 4] <= cut_pt) | (ref[:, 5] <= cut_pt) | (np.abs(ref[:, 1]) > cut_eta) | (np.abs(ref[:, 2]) > cut_eta) | (ref[:, 3] <= cut_mll))[0]\n",
    "masked_ref = np.delete(ref, mask_idx, axis=0)\n",
    "# mean and std of reference data compute from the entire dataset - used to normalize\n",
    "mean_ref = [3.05212537e+00, 4.59876795e-04, 3.66978211e-04, 4.67488118e+01,\n",
    "       3.60544255e+01]\n",
    "std_ref = [ 0.52342366,  1.24487457,  1.25051629, 15.86122412,  8.95046637]\n",
    "for perc in [1, 5, 10, 25, 50, 75, 90, 95, 99]:\n",
    "    print(perc)\n",
    "    print(candidate_sigma(normalize(masked_ref[:,[0,1,2,4,5]],mean_ref,std_ref), perc=perc))"
   ]
  },
  {
   "cell_type": "code",
   "execution_count": 35,
   "metadata": {},
   "outputs": [
    {
     "name": "stdout",
     "output_type": "stream",
     "text": [
      "(20000, 6) (18759, 6)\n"
     ]
    }
   ],
   "source": [
    "print(ref.shape,\n",
    "    masked_ref.shape)"
   ]
  },
  {
   "cell_type": "code",
   "execution_count": 33,
   "metadata": {},
   "outputs": [
    {
     "name": "stdout",
     "output_type": "stream",
     "text": [
      "DiLepton_SM\n",
      "available features:  ['delta_phi', 'eta1', 'eta2', 'mll', 'pt1', 'pt2']\n",
      "(20000, 6)\n",
      "0.313\n",
      "0.567\n",
      "1.182\n",
      "1.773\n",
      "2.47\n",
      "3.152\n",
      "3.546\n",
      "4.205\n"
     ]
    }
   ],
   "source": [
    "ref = BuildSample_DY_2('/data/marcol/HEPDATA/DILEPTON/DiLepton_SM/', np.random.default_rng(seed=1234), features=['delta_phi', 'eta1', 'eta2', 'mll', 'pt1', 'pt2'], N_Events=20000, nfiles=66, shuffle=True)\n",
    "cut_mll = 60\n",
    "cut_pt = 20\n",
    "cut_eta = 2.4\n",
    "\n",
    "mask = 1*(ref[:,3]>=cut_mll)*(np.abs(ref[:,1])<cut_eta)*(np.abs(ref[:,2])<cut_eta)*(ref[:,4]>=cut_pt)*(ref[:,5]>=cut_pt)\n",
    "masked_ref = ref[mask>0]\n",
    "# mean and std of reference data compute from the entire dataset - used to normalize\n",
    "mean_ref = [3.05212537e+00, 4.59876795e-04, 3.66978211e-04, 4.67488118e+01,\n",
    "       3.60544255e+01]\n",
    "std_ref = [ 0.52342366,  1.24487457,  1.25051629, 15.86122412,  8.95046637]\n",
    "for perc in [1, 5, 25, 50, 75, 90, 95, 99]:\n",
    "\n",
    "    print(candidate_sigma(normalize(masked_ref[:,[0,1,2,4,5]],mean_ref,std_ref), perc=perc))"
   ]
  },
  {
   "cell_type": "code",
   "execution_count": 19,
   "metadata": {},
   "outputs": [
    {
     "data": {
      "text/plain": [
       "array([[ 2.24106342e+00, -1.27310228e+00,  3.64202529e-01,\n",
       "         9.06028268e+01,  4.22095032e+01,  2.95640774e+01],\n",
       "       [ 2.90363580e+00,  5.98591149e-01, -2.19859743e+00,\n",
       "         1.18139451e+02,  2.91574383e+01,  2.60104389e+01],\n",
       "       [ 2.59955740e+00,  3.25456262e-01, -5.36577590e-02,\n",
       "         8.95097868e+01,  6.56238174e+01,  3.16393261e+01],\n",
       "       ...,\n",
       "       [ 3.10783041e+00, -2.01773095e+00, -6.32607937e-02,\n",
       "         9.00996197e+01,  3.13984871e+01,  2.81004925e+01],\n",
       "       [ 3.10056466e+00, -5.28206348e-01,  4.87124741e-01,\n",
       "         9.66036307e+01,  4.76336021e+01,  3.82584419e+01],\n",
       "       [ 4.04011095e+00, -9.46760535e-01, -4.24076378e-01,\n",
       "         9.15159541e+01,  5.39279404e+01,  4.40571671e+01]])"
      ]
     },
     "execution_count": 19,
     "metadata": {},
     "output_type": "execute_result"
    }
   ],
   "source": [
    "ref[mask>0]"
   ]
  },
  {
   "cell_type": "code",
   "execution_count": 18,
   "metadata": {},
   "outputs": [
    {
     "data": {
      "text/plain": [
       "(20000,)"
      ]
     },
     "execution_count": 18,
     "metadata": {},
     "output_type": "execute_result"
    }
   ],
   "source": [
    "mask.shape"
   ]
  },
  {
   "cell_type": "code",
   "execution_count": null,
   "metadata": {},
   "outputs": [],
   "source": []
  }
 ],
 "metadata": {
  "kernelspec": {
   "display_name": "falkon_torch113_cu116",
   "language": "python",
   "name": "python3"
  },
  "language_info": {
   "codemirror_mode": {
    "name": "ipython",
    "version": 3
   },
   "file_extension": ".py",
   "mimetype": "text/x-python",
   "name": "python",
   "nbconvert_exporter": "python",
   "pygments_lexer": "ipython3",
   "version": "3.9.18"
  }
 },
 "nbformat": 4,
 "nbformat_minor": 2
}
